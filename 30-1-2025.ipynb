{
  "nbformat": 4,
  "nbformat_minor": 0,
  "metadata": {
    "colab": {
      "provenance": []
    },
    "kernelspec": {
      "name": "python3",
      "display_name": "Python 3"
    },
    "language_info": {
      "name": "python"
    }
  },
  "cells": [
    {
      "cell_type": "code",
      "source": [
        "def invertRow(grid:list[list[int]],row:int)->list[list[int]]:\n",
        "  for i in range(len(grid[row])):\n",
        "    grid[row][i] = 1-grid[row][i]\n",
        "  return grid\n",
        "def invertCol(grid:list[list[int]],col:int)->list[list[int]]:\n",
        "  for i in range(len(grid)):\n",
        "    grid[i][col] = 1-grid[i][col]\n",
        "  return grid"
      ],
      "metadata": {
        "id": "HSCpFrcrzJ5z"
      },
      "execution_count": 1,
      "outputs": []
    },
    {
      "cell_type": "code",
      "source": [
        "import random\n",
        "output = []\n",
        "N,M = map(int,input().split())\n",
        "NUM,CHOICE = (input().split())\n",
        "NUM = int(NUM)\n",
        "grid = []\n",
        "for i in range(N):\n",
        "  grid.append(list(map(int,input().split())))\n",
        "if CHOICE==\"row\":\n",
        "  grid = invertRow(grid,NUM)\n",
        "else:\n",
        "  grid = invertCol(grid,NUM)\n",
        "output.append(grid)\n",
        "print('OUTPUT')\n",
        "for i in output:\n",
        "  for j in i:\n",
        "    print(*j)"
      ],
      "metadata": {
        "id": "4_bS342vzSSE",
        "outputId": "0c0695f2-b6f1-4100-b471-4e04fa08b054",
        "colab": {
          "base_uri": "https://localhost:8080/"
        }
      },
      "execution_count": 3,
      "outputs": [
        {
          "output_type": "stream",
          "name": "stdout",
          "text": [
            "3 4\n",
            "3 columns\n",
            "0 1 1 0\n",
            "1 0 1 0 \n",
            "0 1 1 1\n",
            "OUTPUT\n",
            "0 1 1 1\n",
            "1 0 1 1\n",
            "0 1 1 0\n"
          ]
        }
      ]
    },
    {
      "cell_type": "code",
      "execution_count": 5,
      "metadata": {
        "id": "QlUKavO3oGtG"
      },
      "outputs": [],
      "source": [
        "def helper(i:int)->int:\n",
        "  if i%2==0:return 1\n",
        "  else:return nextGreaterHash(i//2)*2\n"
      ]
    },
    {
      "cell_type": "code",
      "source": [
        "def nextGreaterHash(i:int)->int:\n",
        "  return helper(i)+i"
      ],
      "metadata": {
        "id": "JTZR1gIcrCTh"
      },
      "execution_count": 7,
      "outputs": []
    },
    {
      "cell_type": "code",
      "source": [
        "# t is no.of inputs and then for T times, N is taken input and feed into nextGreaterHash and output array is appended with result and then all outputs are displayed under \"OUTPUT\"\n",
        "T = int(input())\n",
        "output = []\n",
        "for i in range(T):\n",
        "  N = int(input())\n",
        "  output.append(nextGreaterHash(N))\n",
        "print(\"OUTPUT\")\n",
        "for i in output:\n",
        "  print(i)"
      ],
      "metadata": {
        "colab": {
          "base_uri": "https://localhost:8080/"
        },
        "id": "BvkOPCppr2Nw",
        "outputId": "c4155f2b-1a6f-4b38-cc93-7eb1eac636a3"
      },
      "execution_count": 8,
      "outputs": [
        {
          "output_type": "stream",
          "name": "stdout",
          "text": [
            "5\n",
            "6\n",
            "4\n",
            "10\n",
            "12\n",
            "14\n",
            "OUTPUT\n",
            "7\n",
            "5\n",
            "11\n",
            "13\n",
            "15\n"
          ]
        }
      ]
    },
    {
      "cell_type": "code",
      "source": [
        "def toggleBitsFromTo(n:int,l:int,r:int)->int:\n",
        "  res=0\n",
        "  i=0\n",
        "  while n!=0:\n",
        "    res+=2**i*((1-n%2) if r>i and l<=(i+1) else n%2)\n",
        "    i+=1\n",
        "    n//=2\n",
        "  return res"
      ],
      "metadata": {
        "id": "95wHpFC1sQjw"
      },
      "execution_count": 57,
      "outputs": []
    },
    {
      "cell_type": "code",
      "source": [
        "# t is no.of inputs and then for T times, N is taken input and feed into nextGreaterHash and output array is appended with result and then all outputs are displayed under \"OUTPUT\"\n",
        "T = int(input())\n",
        "output = []\n",
        "for i in range(T):\n",
        "  N,L,R = map(int,input().split())\n",
        "  output.append(toggleBitsFromTo(N,L,R))\n",
        "print(\"OUTPUT\")\n",
        "for i in output:\n",
        "  print(i)"
      ],
      "metadata": {
        "colab": {
          "base_uri": "https://localhost:8080/"
        },
        "id": "blQSw313s4PH",
        "outputId": "bca0aa55-61e6-44e6-d086-f165e8204f2c"
      },
      "execution_count": 59,
      "outputs": [
        {
          "output_type": "stream",
          "name": "stdout",
          "text": [
            "2\n",
            "17 2 3\n",
            "50 2 5\n",
            "OUTPUT\n",
            "23\n",
            "44\n"
          ]
        }
      ]
    },
    {
      "cell_type": "code",
      "source": [
        "# swapping all even odd bits\n",
        "map__ = [0,2,1,3]\n",
        "def swapevenodd(n:int)->int:\n",
        "  res=0\n",
        "  i=0\n",
        "  while n!=0:\n",
        "    res+=(4**i)*(map__[n%4])\n",
        "    i+=1\n",
        "    n//=4\n",
        "  return res"
      ],
      "metadata": {
        "id": "QLpq4CBqxnGE"
      },
      "execution_count": 64,
      "outputs": []
    },
    {
      "cell_type": "code",
      "source": [
        "# t is no.of inputs and then for T times, N is taken input and feed into nextGreaterHash and output array is appended with result and then all outputs are displayed under \"OUTPUT\"\n",
        "T = int(input())\n",
        "output = []\n",
        "for i in range(T):\n",
        "  N = int(input())\n",
        "  output.append(swapevenodd(N))\n",
        "print(\"OUTPUT\")\n",
        "for i in output:\n",
        "  print(i)"
      ],
      "metadata": {
        "id": "nnVBaceryKOk",
        "outputId": "61a75f77-b30a-4e5e-bbb3-96db9c96405e",
        "colab": {
          "base_uri": "https://localhost:8080/"
        }
      },
      "execution_count": 65,
      "outputs": [
        {
          "output_type": "stream",
          "name": "stdout",
          "text": [
            "2\n",
            "23\n",
            "2\n",
            "OUTPUT\n",
            "43\n",
            "1\n"
          ]
        }
      ]
    }
  ]
}