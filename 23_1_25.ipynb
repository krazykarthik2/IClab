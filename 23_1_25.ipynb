{
  "nbformat": 4,
  "nbformat_minor": 0,
  "metadata": {
    "colab": {
      "provenance": []
    },
    "kernelspec": {
      "name": "python3",
      "display_name": "Python 3"
    },
    "language_info": {
      "name": "python"
    }
  },
  "cells": [
    {
      "cell_type": "markdown",
      "source": [
        "# PRE LAB 1."
      ],
      "metadata": {
        "id": "qA6UA2fpnYq9"
      }
    },
    {
      "cell_type": "code",
      "execution_count": 2,
      "metadata": {
        "id": "hS1MJapHjf2-"
      },
      "outputs": [],
      "source": [
        "def perform(l):\n",
        "  for i in range(0,len(l),2):\n",
        "    if l[i]!=l[i+1]:return l[i]\n",
        "  return l[-1]"
      ]
    },
    {
      "cell_type": "code",
      "source": [
        "# first line fo input is no.of testcases T, first line of each test case is N, N is length of L, second line of each test case is a list L  of integers, take all that do perform(L) for each and print output\n",
        "outs = []\n",
        "T=int(input())\n",
        "for i in range(T):\n",
        "  N=int(input())\n",
        "  L=list(map(int,input().split()))\n",
        "  outs.append(perform(L))\n",
        "print('output:')\n",
        "for out in outs:\n",
        "  print(out)"
      ],
      "metadata": {
        "colab": {
          "base_uri": "https://localhost:8080/"
        },
        "id": "MKjvMhvFlupm",
        "outputId": "5575f8d6-b88b-4525-e170-1184dd549a12"
      },
      "execution_count": 8,
      "outputs": [
        {
          "output_type": "stream",
          "name": "stdout",
          "text": [
            "2\n",
            "5\n",
            "1 1 2 5 5\n",
            "7\n",
            "2 2 5 5 20 30 30\n",
            "output:\n",
            "2\n",
            "20\n"
          ]
        }
      ]
    },
    {
      "cell_type": "markdown",
      "source": [
        "# IN LAB 1."
      ],
      "metadata": {
        "id": "YD_bGtM1neBO"
      }
    },
    {
      "cell_type": "code",
      "source": [
        "def perform(l):\n",
        "  leader = 0\n",
        "  count = 0\n",
        "  for i in range(len(l)):\n",
        "    if leader<l[i]:\n",
        "      leader = l[i]\n",
        "      count +=1\n",
        "  return count"
      ],
      "metadata": {
        "id": "7ddpyqSjngKe"
      },
      "execution_count": 11,
      "outputs": []
    },
    {
      "cell_type": "code",
      "source": [
        "# first line fo input is no.of testcases T, first line of each test case is N, N is length of L, second line of each test case is a list L  of integers, take all that do perform(L) for each and print output\n",
        "outs = []\n",
        "T=int(input())\n",
        "for i in range(T):\n",
        "  N=int(input())\n",
        "  L=list(map(int,input().split()))\n",
        "  outs.append(perform(L))\n",
        "print('output:')\n",
        "for out in outs:\n",
        "  print(out)"
      ],
      "metadata": {
        "colab": {
          "base_uri": "https://localhost:8080/"
        },
        "id": "Oh6aqZXpnwVw",
        "outputId": "5f6e6f02-ec66-4d2a-82a0-323ea371efce"
      },
      "execution_count": 12,
      "outputs": [
        {
          "output_type": "stream",
          "name": "stdout",
          "text": [
            "2\n",
            "5\n",
            "7 4 8 2 9\n",
            "4\n",
            "2 3 4 5\n",
            "output:\n",
            "3\n",
            "4\n"
          ]
        }
      ]
    },
    {
      "cell_type": "markdown",
      "source": [
        "# IN LAB 2."
      ],
      "metadata": {
        "id": "cDnAARCXoHPh"
      }
    },
    {
      "cell_type": "code",
      "source": [
        "def perform(r,c,l):\n",
        "  maxones =0\n",
        "  ones =0\n",
        "  row =0\n",
        "  for i in range(r):\n",
        "    ones=0\n",
        "    for j in range(c):\n",
        "      if l[i*c+j]==0:ones=0\n",
        "      else:\n",
        "        ones+=1\n",
        "        if ones>maxones:\n",
        "          maxones=ones\n",
        "          row=i\n",
        "  return row"
      ],
      "metadata": {
        "id": "23BFEa5noGFi"
      },
      "execution_count": 19,
      "outputs": []
    },
    {
      "cell_type": "code",
      "source": [
        "# first line fo input is no.of testcases T, first line of each test case is R C, R*C is length of L, second line of each test case is a list L  of integers, take all that do perform(R,C,L) for each and print output\n",
        "outs = []\n",
        "T=int(input())\n",
        "for i in range(T):\n",
        "  R,C=map(int,input().split())\n",
        "  L=list(map(int,input().split()))\n",
        "  outs.append(perform(R,C,L))\n",
        "print('output:')\n",
        "for out in outs:\n",
        "  print(out)\n"
      ],
      "metadata": {
        "colab": {
          "base_uri": "https://localhost:8080/"
        },
        "id": "_nn5_vGDoMxl",
        "outputId": "3bad02c1-b5f4-4b6d-9a1f-0311e266df1a"
      },
      "execution_count": 20,
      "outputs": [
        {
          "output_type": "stream",
          "name": "stdout",
          "text": [
            "2\n",
            "3 4\n",
            "0 1 1 1 0 0 1 1 0 0 1 1\n",
            "2 2 \n",
            "0 1 1 1 \n",
            "output:\n",
            "0\n",
            "1\n"
          ]
        }
      ]
    },
    {
      "cell_type": "markdown",
      "source": [
        "# POST LAB 1."
      ],
      "metadata": {
        "id": "b-0_M1UWqNvD"
      }
    },
    {
      "cell_type": "code",
      "source": [
        "def perform(l):\n",
        "  for i in range(len(l)):\n",
        "    if (i==0 or l[i]>l[i-1]) and (i==len(l)-1 or l[i]>l[i+1]):return i\n",
        "  return -1\n",
        "\n",
        "def check(l,x):\n",
        "  if (x==0 or l[x]>l[x-1]) and (x==len(l)-1 or l[x]>l[x+1]):return True\n",
        "  return False"
      ],
      "metadata": {
        "id": "eb4SDrXdqM0T"
      },
      "execution_count": 23,
      "outputs": []
    },
    {
      "cell_type": "code",
      "source": [
        "# first line fo input is no.of testcases T, first line of each test case is N, N is length of L, second line of each test case is a list L  of integers, take all that do perform(L) for each and print output\n",
        "outs = []\n",
        "T=int(input())\n",
        "for i in range(T):\n",
        "  N=int(input())\n",
        "  L=list(map(int,input().split()))\n",
        "  x=perform(L)\n",
        "  c = check(L,x)\n",
        "  outs.append(1 if c else 0)\n",
        "print('output:')\n",
        "for out in outs:\n",
        "  print(out)"
      ],
      "metadata": {
        "colab": {
          "base_uri": "https://localhost:8080/"
        },
        "id": "JCRp7GLRqn8D",
        "outputId": "395cba7c-eeb7-4f6d-e9d9-68e0ac45d440"
      },
      "execution_count": 24,
      "outputs": [
        {
          "output_type": "stream",
          "name": "stdout",
          "text": [
            "2\n",
            "3\n",
            "1 2 3\n",
            "2\n",
            "3 4\n",
            "output:\n",
            "1\n",
            "1\n"
          ]
        }
      ]
    },
    {
      "cell_type": "code",
      "source": [
        "r = 3\n",
        "c =4\n",
        "L = [0,1,1,1,0,0,1,1,0,0,1,1]\n",
        "[[L[i*c+j] for j in range(c) ] for i in range(r)]"
      ],
      "metadata": {
        "colab": {
          "base_uri": "https://localhost:8080/"
        },
        "id": "KALP_w13slhT",
        "outputId": "72efefd1-a4c4-4d2a-ba12-4b845cf93aa4"
      },
      "execution_count": 29,
      "outputs": [
        {
          "output_type": "execute_result",
          "data": {
            "text/plain": [
              "[[0, 1, 1, 1], [0, 0, 1, 1], [0, 0, 1, 1]]"
            ]
          },
          "metadata": {},
          "execution_count": 29
        }
      ]
    }
  ]
}