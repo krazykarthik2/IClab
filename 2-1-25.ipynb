{
 "cells": [
  {
   "cell_type": "code",
   "execution_count": 2,
   "id": "64f7cef4-4025-4b80-b1b6-6801d5bdb7a3",
   "metadata": {},
   "outputs": [
    {
     "name": "stdin",
     "output_type": "stream",
     "text": [
      " 1\n",
      " 12\n",
      " defRTSersUXI\n"
     ]
    },
    {
     "name": "stdout",
     "output_type": "stream",
     "text": [
      "deeIRSfrsTUX\n"
     ]
    }
   ],
   "source": [
    "def process_test_case(N, S):\n",
    "    # Separate uppercase and lowercase letters\n",
    "    lower_chars = [ch for ch in S if ch.islower()]\n",
    "    upper_chars = [ch for ch in S if ch.isupper()]\n",
    "    \n",
    "    # Sort each list\n",
    "    lower_chars.sort()\n",
    "    upper_chars.sort()\n",
    "    \n",
    "    # Rebuild the string by inserting sorted characters back in original positions\n",
    "    result = []\n",
    "    lower_index = 0\n",
    "    upper_index = 0\n",
    "    \n",
    "    for ch in S:\n",
    "        if ch.islower():\n",
    "            result.append(lower_chars[lower_index])\n",
    "            lower_index += 1\n",
    "        else:\n",
    "            result.append(upper_chars[upper_index])\n",
    "            upper_index += 1\n",
    "    \n",
    "    return ''.join(result)\n",
    "\n",
    "def main():\n",
    "    T = int(input())  # Number of test cases\n",
    "    for _ in range(T):\n",
    "        N = int(input())  # Length of the string\n",
    "        S = input().strip()  # The string itself\n",
    "        result = process_test_case(N, S)\n",
    "        print(result)\n",
    "\n",
    "if __name__ == \"__main__\":\n",
    "    main()"
   ]
  },
  {
   "cell_type": "code",
   "execution_count": 9,
   "id": "74d8294a-28ae-4d78-abb6-2eac865f0700",
   "metadata": {},
   "outputs": [
    {
     "name": "stdin",
     "output_type": "stream",
     "text": [
      " 2\n",
      " 5\n",
      " 10110\n"
     ]
    },
    {
     "name": "stdout",
     "output_type": "stream",
     "text": [
      "00111\n"
     ]
    },
    {
     "name": "stdin",
     "output_type": "stream",
     "text": [
      " 10\n",
      " 1011111000\n"
     ]
    },
    {
     "name": "stdout",
     "output_type": "stream",
     "text": [
      "0000111111\n"
     ]
    }
   ],
   "source": [
    "def binary_array_sorting(n,l):\n",
    "    zeros = l.count('0')\n",
    "    ones = n-zeros\n",
    "    res = '0'*zeros + '1'* ones\n",
    "    return res\n",
    "\n",
    "def main():\n",
    "    T = int(input())  # Number of test cases\n",
    "    for _ in range(T):\n",
    "        N = int(input())  # Length of the string\n",
    "        S = input().strip()  # The string itself\n",
    "        result = binary_array_sorting(N,S)\n",
    "        print('>>',result)\n",
    "\n",
    "if __name__ == \"__main__\":\n",
    "    main()"
   ]
  },
  {
   "cell_type": "code",
   "execution_count": 16,
   "id": "1988546e-49f2-4a7b-8e7c-6100c76a8189",
   "metadata": {},
   "outputs": [
    {
     "name": "stdin",
     "output_type": "stream",
     "text": [
      " 2\n",
      " 5\n",
      " 2 8 7 1 5\n"
     ]
    },
    {
     "name": "stdout",
     "output_type": "stream",
     "text": [
      ">> 1 2 5\n"
     ]
    },
    {
     "name": "stdin",
     "output_type": "stream",
     "text": [
      " 6\n",
      " 7 -2 3 4 9 -1\n"
     ]
    },
    {
     "name": "stdout",
     "output_type": "stream",
     "text": [
      ">> -2 -1 3 4\n"
     ]
    }
   ],
   "source": [
    "def at_least_2(n,l):\n",
    "    l.sort()\n",
    "    return l[:-2]\n",
    "\n",
    "def main():\n",
    "    T = int(input())  # Number of test cases\n",
    "    for _ in range(T):\n",
    "        N = int(input())  # Length of the string\n",
    "        S = list(map(int,filter(lambda e:e,input().strip().split(' '))))  # The string itself\n",
    "        result = at_least_2(N,S)\n",
    "        print('>>',\" \".join(map(str,result)))\n",
    "\n",
    "if __name__ == \"__main__\":\n",
    "    main()"
   ]
  },
  {
   "cell_type": "code",
   "execution_count": 19,
   "id": "9065f6ac-017f-4582-be80-81e7fc61730c",
   "metadata": {},
   "outputs": [
    {
     "name": "stdin",
     "output_type": "stream",
     "text": [
      " 2\n",
      " bbccdefbbaa\n"
     ]
    },
    {
     "name": "stdout",
     "output_type": "stream",
     "text": [
      ">> aabbbbccdef\n"
     ]
    },
    {
     "name": "stdin",
     "output_type": "stream",
     "text": [
      " geeksforgeeks\n"
     ]
    },
    {
     "name": "stdout",
     "output_type": "stream",
     "text": [
      ">> eeeefggkkorss\n"
     ]
    }
   ],
   "source": [
    "def sort_string(l):\n",
    "    l=list(l)\n",
    "    l.sort()\n",
    "    return \"\".join(l)\n",
    "\n",
    "def main():\n",
    "    T = int(input())  # Number of test cases\n",
    "    for _ in range(T):\n",
    "        S = input().strip()  # The string itself\n",
    "        result = sort_string(S)\n",
    "        print('>>',result)\n",
    "\n",
    "if __name__ == \"__main__\":\n",
    "    main()"
   ]
  }
 ],
 "metadata": {
  "kernelspec": {
   "display_name": "Python 3 (ipykernel)",
   "language": "python",
   "name": "python3"
  },
  "language_info": {
   "codemirror_mode": {
    "name": "ipython",
    "version": 3
   },
   "file_extension": ".py",
   "mimetype": "text/x-python",
   "name": "python",
   "nbconvert_exporter": "python",
   "pygments_lexer": "ipython3",
   "version": "3.12.4"
  }
 },
 "nbformat": 4,
 "nbformat_minor": 5
}
